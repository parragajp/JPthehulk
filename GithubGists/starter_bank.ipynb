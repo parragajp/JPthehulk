{
  "nbformat": 4,
  "nbformat_minor": 0,
  "metadata": {
    "colab": {
      "name": "starter_bank.ipynb",
      "provenance": [],
      "authorship_tag": "ABX9TyNGmDleR8oJoc0sP/ew8Zfj",
      "include_colab_link": true
    },
    "kernelspec": {
      "name": "python3",
      "display_name": "Python 3"
    }
  },
  "cells": [
    {
      "cell_type": "markdown",
      "metadata": {
        "id": "view-in-github",
        "colab_type": "text"
      },
      "source": [
        "<a href=\"https://colab.research.google.com/github/parragajp/JPthehulk/blob/master/starter_bank.ipynb\" target=\"_parent\"><img src=\"https://colab.research.google.com/assets/colab-badge.svg\" alt=\"Open In Colab\"/></a>"
      ]
    },
    {
      "cell_type": "code",
      "metadata": {
        "id": "eayGpyKCAfCw"
      },
      "source": [
        "# import requried library\n",
        "import pandas as pd\n",
        "\n",
        "# import file from github\n",
        "campaign = pd.read_csv('https://raw.githubusercontent.com/byui-cse/cse450-course/master/data/bank.csv')"
      ],
      "execution_count": null,
      "outputs": []
    },
    {
      "cell_type": "code",
      "metadata": {
        "colab": {
          "base_uri": "https://localhost:8080/",
          "height": 297
        },
        "id": "QdUKNEv7BB7k",
        "outputId": "6405e147-9a6c-43f8-8af4-4eafac3992a2"
      },
      "source": [
        "# let's look at the numerical feature's summary\n",
        "campaign.describe()"
      ],
      "execution_count": null,
      "outputs": [
        {
          "output_type": "execute_result",
          "data": {
            "text/html": [
              "<div>\n",
              "<style scoped>\n",
              "    .dataframe tbody tr th:only-of-type {\n",
              "        vertical-align: middle;\n",
              "    }\n",
              "\n",
              "    .dataframe tbody tr th {\n",
              "        vertical-align: top;\n",
              "    }\n",
              "\n",
              "    .dataframe thead th {\n",
              "        text-align: right;\n",
              "    }\n",
              "</style>\n",
              "<table border=\"1\" class=\"dataframe\">\n",
              "  <thead>\n",
              "    <tr style=\"text-align: right;\">\n",
              "      <th></th>\n",
              "      <th>age</th>\n",
              "      <th>campaign</th>\n",
              "      <th>pdays</th>\n",
              "      <th>previous</th>\n",
              "      <th>emp.var.rate</th>\n",
              "      <th>cons.price.idx</th>\n",
              "      <th>cons.conf.idx</th>\n",
              "      <th>euribor3m</th>\n",
              "      <th>nr.employed</th>\n",
              "    </tr>\n",
              "  </thead>\n",
              "  <tbody>\n",
              "    <tr>\n",
              "      <th>count</th>\n",
              "      <td>41188.00000</td>\n",
              "      <td>41188.000000</td>\n",
              "      <td>41188.000000</td>\n",
              "      <td>41188.000000</td>\n",
              "      <td>41188.000000</td>\n",
              "      <td>41188.000000</td>\n",
              "      <td>41188.000000</td>\n",
              "      <td>41188.000000</td>\n",
              "      <td>41188.000000</td>\n",
              "    </tr>\n",
              "    <tr>\n",
              "      <th>mean</th>\n",
              "      <td>40.02406</td>\n",
              "      <td>2.567593</td>\n",
              "      <td>962.475454</td>\n",
              "      <td>0.172963</td>\n",
              "      <td>0.081886</td>\n",
              "      <td>93.575664</td>\n",
              "      <td>-40.502600</td>\n",
              "      <td>3.621291</td>\n",
              "      <td>5167.035911</td>\n",
              "    </tr>\n",
              "    <tr>\n",
              "      <th>std</th>\n",
              "      <td>10.42125</td>\n",
              "      <td>2.770014</td>\n",
              "      <td>186.910907</td>\n",
              "      <td>0.494901</td>\n",
              "      <td>1.570960</td>\n",
              "      <td>0.578840</td>\n",
              "      <td>4.628198</td>\n",
              "      <td>1.734447</td>\n",
              "      <td>72.251528</td>\n",
              "    </tr>\n",
              "    <tr>\n",
              "      <th>min</th>\n",
              "      <td>17.00000</td>\n",
              "      <td>1.000000</td>\n",
              "      <td>0.000000</td>\n",
              "      <td>0.000000</td>\n",
              "      <td>-3.400000</td>\n",
              "      <td>92.201000</td>\n",
              "      <td>-50.800000</td>\n",
              "      <td>0.634000</td>\n",
              "      <td>4963.600000</td>\n",
              "    </tr>\n",
              "    <tr>\n",
              "      <th>25%</th>\n",
              "      <td>32.00000</td>\n",
              "      <td>1.000000</td>\n",
              "      <td>999.000000</td>\n",
              "      <td>0.000000</td>\n",
              "      <td>-1.800000</td>\n",
              "      <td>93.075000</td>\n",
              "      <td>-42.700000</td>\n",
              "      <td>1.344000</td>\n",
              "      <td>5099.100000</td>\n",
              "    </tr>\n",
              "    <tr>\n",
              "      <th>50%</th>\n",
              "      <td>38.00000</td>\n",
              "      <td>2.000000</td>\n",
              "      <td>999.000000</td>\n",
              "      <td>0.000000</td>\n",
              "      <td>1.100000</td>\n",
              "      <td>93.749000</td>\n",
              "      <td>-41.800000</td>\n",
              "      <td>4.857000</td>\n",
              "      <td>5191.000000</td>\n",
              "    </tr>\n",
              "    <tr>\n",
              "      <th>75%</th>\n",
              "      <td>47.00000</td>\n",
              "      <td>3.000000</td>\n",
              "      <td>999.000000</td>\n",
              "      <td>0.000000</td>\n",
              "      <td>1.400000</td>\n",
              "      <td>93.994000</td>\n",
              "      <td>-36.400000</td>\n",
              "      <td>4.961000</td>\n",
              "      <td>5228.100000</td>\n",
              "    </tr>\n",
              "    <tr>\n",
              "      <th>max</th>\n",
              "      <td>98.00000</td>\n",
              "      <td>56.000000</td>\n",
              "      <td>999.000000</td>\n",
              "      <td>7.000000</td>\n",
              "      <td>1.400000</td>\n",
              "      <td>94.767000</td>\n",
              "      <td>-26.900000</td>\n",
              "      <td>5.045000</td>\n",
              "      <td>5228.100000</td>\n",
              "    </tr>\n",
              "  </tbody>\n",
              "</table>\n",
              "</div>"
            ],
            "text/plain": [
              "               age      campaign  ...     euribor3m   nr.employed\n",
              "count  41188.00000  41188.000000  ...  41188.000000  41188.000000\n",
              "mean      40.02406      2.567593  ...      3.621291   5167.035911\n",
              "std       10.42125      2.770014  ...      1.734447     72.251528\n",
              "min       17.00000      1.000000  ...      0.634000   4963.600000\n",
              "25%       32.00000      1.000000  ...      1.344000   5099.100000\n",
              "50%       38.00000      2.000000  ...      4.857000   5191.000000\n",
              "75%       47.00000      3.000000  ...      4.961000   5228.100000\n",
              "max       98.00000     56.000000  ...      5.045000   5228.100000\n",
              "\n",
              "[8 rows x 9 columns]"
            ]
          },
          "metadata": {
            "tags": []
          },
          "execution_count": 2
        }
      ]
    },
    {
      "cell_type": "code",
      "metadata": {
        "colab": {
          "base_uri": "https://localhost:8080/"
        },
        "id": "HPfDdmCmBFLb",
        "outputId": "75b47113-5928-4dec-c8fb-58d43575b7e6"
      },
      "source": [
        " # view all columns\n",
        "campaign.columns"
      ],
      "execution_count": null,
      "outputs": [
        {
          "output_type": "execute_result",
          "data": {
            "text/plain": [
              "Index(['age', 'job', 'marital', 'education', 'default', 'housing', 'loan',\n",
              "       'contact', 'month', 'day_of_week', 'campaign', 'pdays', 'previous',\n",
              "       'poutcome', 'emp.var.rate', 'cons.price.idx', 'cons.conf.idx',\n",
              "       'euribor3m', 'nr.employed', 'y'],\n",
              "      dtype='object')"
            ]
          },
          "metadata": {
            "tags": []
          },
          "execution_count": 3
        }
      ]
    },
    {
      "cell_type": "code",
      "metadata": {
        "colab": {
          "base_uri": "https://localhost:8080/"
        },
        "id": "a437Lb9yB2z_",
        "outputId": "b49fdc5c-df63-41fe-d1a9-562bbd2f2464"
      },
      "source": [
        "# check if there is any NA's\n",
        "campaign.isna().sum()"
      ],
      "execution_count": null,
      "outputs": [
        {
          "output_type": "execute_result",
          "data": {
            "text/plain": [
              "age               0\n",
              "job               0\n",
              "marital           0\n",
              "education         0\n",
              "default           0\n",
              "housing           0\n",
              "loan              0\n",
              "contact           0\n",
              "month             0\n",
              "day_of_week       0\n",
              "campaign          0\n",
              "pdays             0\n",
              "previous          0\n",
              "poutcome          0\n",
              "emp.var.rate      0\n",
              "cons.price.idx    0\n",
              "cons.conf.idx     0\n",
              "euribor3m         0\n",
              "nr.employed       0\n",
              "y                 0\n",
              "dtype: int64"
            ]
          },
          "metadata": {
            "tags": []
          },
          "execution_count": 4
        }
      ]
    },
    {
      "cell_type": "code",
      "metadata": {
        "colab": {
          "base_uri": "https://localhost:8080/",
          "height": 224
        },
        "id": "lEKKhibwB8Sn",
        "outputId": "73f7d722-4dcf-4003-8e3b-d0ddc299456f"
      },
      "source": [
        "# View the first 5 rows\n",
        "campaign.head(5)"
      ],
      "execution_count": null,
      "outputs": [
        {
          "output_type": "execute_result",
          "data": {
            "text/html": [
              "<div>\n",
              "<style scoped>\n",
              "    .dataframe tbody tr th:only-of-type {\n",
              "        vertical-align: middle;\n",
              "    }\n",
              "\n",
              "    .dataframe tbody tr th {\n",
              "        vertical-align: top;\n",
              "    }\n",
              "\n",
              "    .dataframe thead th {\n",
              "        text-align: right;\n",
              "    }\n",
              "</style>\n",
              "<table border=\"1\" class=\"dataframe\">\n",
              "  <thead>\n",
              "    <tr style=\"text-align: right;\">\n",
              "      <th></th>\n",
              "      <th>age</th>\n",
              "      <th>job</th>\n",
              "      <th>marital</th>\n",
              "      <th>education</th>\n",
              "      <th>default</th>\n",
              "      <th>housing</th>\n",
              "      <th>loan</th>\n",
              "      <th>contact</th>\n",
              "      <th>month</th>\n",
              "      <th>day_of_week</th>\n",
              "      <th>campaign</th>\n",
              "      <th>pdays</th>\n",
              "      <th>previous</th>\n",
              "      <th>poutcome</th>\n",
              "      <th>emp.var.rate</th>\n",
              "      <th>cons.price.idx</th>\n",
              "      <th>cons.conf.idx</th>\n",
              "      <th>euribor3m</th>\n",
              "      <th>nr.employed</th>\n",
              "      <th>y</th>\n",
              "    </tr>\n",
              "  </thead>\n",
              "  <tbody>\n",
              "    <tr>\n",
              "      <th>0</th>\n",
              "      <td>56</td>\n",
              "      <td>housemaid</td>\n",
              "      <td>married</td>\n",
              "      <td>basic.4y</td>\n",
              "      <td>no</td>\n",
              "      <td>no</td>\n",
              "      <td>no</td>\n",
              "      <td>telephone</td>\n",
              "      <td>may</td>\n",
              "      <td>mon</td>\n",
              "      <td>1</td>\n",
              "      <td>999</td>\n",
              "      <td>0</td>\n",
              "      <td>nonexistent</td>\n",
              "      <td>1.1</td>\n",
              "      <td>93.994</td>\n",
              "      <td>-36.4</td>\n",
              "      <td>4.857</td>\n",
              "      <td>5191.0</td>\n",
              "      <td>no</td>\n",
              "    </tr>\n",
              "    <tr>\n",
              "      <th>1</th>\n",
              "      <td>57</td>\n",
              "      <td>services</td>\n",
              "      <td>married</td>\n",
              "      <td>high.school</td>\n",
              "      <td>unknown</td>\n",
              "      <td>no</td>\n",
              "      <td>no</td>\n",
              "      <td>telephone</td>\n",
              "      <td>may</td>\n",
              "      <td>mon</td>\n",
              "      <td>1</td>\n",
              "      <td>999</td>\n",
              "      <td>0</td>\n",
              "      <td>nonexistent</td>\n",
              "      <td>1.1</td>\n",
              "      <td>93.994</td>\n",
              "      <td>-36.4</td>\n",
              "      <td>4.857</td>\n",
              "      <td>5191.0</td>\n",
              "      <td>no</td>\n",
              "    </tr>\n",
              "    <tr>\n",
              "      <th>2</th>\n",
              "      <td>37</td>\n",
              "      <td>services</td>\n",
              "      <td>married</td>\n",
              "      <td>high.school</td>\n",
              "      <td>no</td>\n",
              "      <td>yes</td>\n",
              "      <td>no</td>\n",
              "      <td>telephone</td>\n",
              "      <td>may</td>\n",
              "      <td>mon</td>\n",
              "      <td>1</td>\n",
              "      <td>999</td>\n",
              "      <td>0</td>\n",
              "      <td>nonexistent</td>\n",
              "      <td>1.1</td>\n",
              "      <td>93.994</td>\n",
              "      <td>-36.4</td>\n",
              "      <td>4.857</td>\n",
              "      <td>5191.0</td>\n",
              "      <td>no</td>\n",
              "    </tr>\n",
              "    <tr>\n",
              "      <th>3</th>\n",
              "      <td>40</td>\n",
              "      <td>admin.</td>\n",
              "      <td>married</td>\n",
              "      <td>basic.6y</td>\n",
              "      <td>no</td>\n",
              "      <td>no</td>\n",
              "      <td>no</td>\n",
              "      <td>telephone</td>\n",
              "      <td>may</td>\n",
              "      <td>mon</td>\n",
              "      <td>1</td>\n",
              "      <td>999</td>\n",
              "      <td>0</td>\n",
              "      <td>nonexistent</td>\n",
              "      <td>1.1</td>\n",
              "      <td>93.994</td>\n",
              "      <td>-36.4</td>\n",
              "      <td>4.857</td>\n",
              "      <td>5191.0</td>\n",
              "      <td>no</td>\n",
              "    </tr>\n",
              "    <tr>\n",
              "      <th>4</th>\n",
              "      <td>56</td>\n",
              "      <td>services</td>\n",
              "      <td>married</td>\n",
              "      <td>high.school</td>\n",
              "      <td>no</td>\n",
              "      <td>no</td>\n",
              "      <td>yes</td>\n",
              "      <td>telephone</td>\n",
              "      <td>may</td>\n",
              "      <td>mon</td>\n",
              "      <td>1</td>\n",
              "      <td>999</td>\n",
              "      <td>0</td>\n",
              "      <td>nonexistent</td>\n",
              "      <td>1.1</td>\n",
              "      <td>93.994</td>\n",
              "      <td>-36.4</td>\n",
              "      <td>4.857</td>\n",
              "      <td>5191.0</td>\n",
              "      <td>no</td>\n",
              "    </tr>\n",
              "  </tbody>\n",
              "</table>\n",
              "</div>"
            ],
            "text/plain": [
              "   age        job  marital  ... euribor3m nr.employed   y\n",
              "0   56  housemaid  married  ...     4.857      5191.0  no\n",
              "1   57   services  married  ...     4.857      5191.0  no\n",
              "2   37   services  married  ...     4.857      5191.0  no\n",
              "3   40     admin.  married  ...     4.857      5191.0  no\n",
              "4   56   services  married  ...     4.857      5191.0  no\n",
              "\n",
              "[5 rows x 20 columns]"
            ]
          },
          "metadata": {
            "tags": []
          },
          "execution_count": 5
        }
      ]
    },
    {
      "cell_type": "code",
      "metadata": {
        "colab": {
          "base_uri": "https://localhost:8080/"
        },
        "id": "o8sybmDOCCmP",
        "outputId": "dd002606-247c-40cc-9b4a-7e7b2c63f1d1"
      },
      "source": [
        "# check how many rows and columns\n",
        "campaign.shape"
      ],
      "execution_count": null,
      "outputs": [
        {
          "output_type": "execute_result",
          "data": {
            "text/plain": [
              "(41188, 20)"
            ]
          },
          "metadata": {
            "tags": []
          },
          "execution_count": 6
        }
      ]
    },
    {
      "cell_type": "code",
      "metadata": {
        "colab": {
          "base_uri": "https://localhost:8080/",
          "height": 880
        },
        "id": "XBtptDzvCKQQ",
        "outputId": "b2541d30-02cc-4f14-b807-85c2b69af455"
      },
      "source": [
        "# required libraries\n",
        "from sklearn.model_selection import train_test_split\n",
        "from sklearn.metrics import accuracy_score, precision_score, recall_score\n",
        "import numpy as np\n",
        "import altair as alt\n",
        "from sklearn import tree\n",
        "\n",
        "# first perform a decision tree on all columns\n",
        "clf = tree.DecisionTreeClassifier()\n",
        "\n",
        "# encode the categorical columns\n",
        "campaign_copy = pd.get_dummies(campaign, columns =['job', 'marital', 'education', 'default', 'housing', 'loan',\n",
        "       'contact', 'month', 'day_of_week','poutcome'])\n",
        "\n",
        "# These are the columns:\n",
        "\"\"\"\n",
        "Index(['age', 'campaign', 'pdays', 'previous', 'emp.var.rate',\n",
        "       'cons.price.idx', 'cons.conf.idx', 'euribor3m', 'nr.employed', 'y',\n",
        "       'job_admin.', 'job_blue-collar', 'job_entrepreneur', 'job_housemaid',\n",
        "       'job_management', 'job_retired', 'job_self-employed', 'job_services',\n",
        "       'job_student', 'job_technician', 'job_unemployed', 'job_unknown',\n",
        "       'marital_divorced', 'marital_married', 'marital_single',\n",
        "       'marital_unknown', 'education_basic.4y', 'education_basic.6y',\n",
        "       'education_basic.9y', 'education_high.school', 'education_illiterate',\n",
        "       'education_professional.course', 'education_university.degree',\n",
        "       'education_unknown', 'default_no', 'default_unknown', 'default_yes',\n",
        "       'housing_no', 'housing_unknown', 'housing_yes', 'loan_no',\n",
        "       'loan_unknown', 'loan_yes', 'contact_cellular', 'contact_telephone',\n",
        "       'month_apr', 'month_aug', 'month_dec', 'month_jul', 'month_jun',\n",
        "       'month_mar', 'month_may', 'month_nov', 'month_oct', 'month_sep',\n",
        "       'day_of_week_fri', 'day_of_week_mon', 'day_of_week_thu',\n",
        "       'day_of_week_tue', 'day_of_week_wed', 'poutcome_failure',\n",
        "       'poutcome_nonexistent', 'poutcome_success'],\n",
        "      dtype='object')\n",
        "\"\"\"\n",
        "\n",
        "# pull out the features and target variable\n",
        "X = campaign_copy.loc[:, ['age', 'campaign', 'pdays', 'previous', 'emp.var.rate',\n",
        "       'cons.price.idx', 'cons.conf.idx', 'euribor3m', 'nr.employed', 'job_admin.', 'job_blue-collar', 'job_entrepreneur', 'job_housemaid',\n",
        "       'job_management', 'job_retired', 'job_self-employed', 'job_services',\n",
        "       'job_student', 'job_technician', 'job_unemployed', 'job_unknown',\n",
        "       'marital_divorced', 'marital_married', 'marital_single',\n",
        "       'marital_unknown', 'education_basic.4y', 'education_basic.6y',\n",
        "       'education_basic.9y', 'education_high.school', 'education_illiterate',\n",
        "       'education_professional.course', 'education_university.degree',\n",
        "       'education_unknown', 'default_no', 'default_unknown', 'default_yes',\n",
        "       'housing_no', 'housing_unknown', 'housing_yes', 'loan_no',\n",
        "       'loan_unknown', 'loan_yes', 'contact_cellular', 'contact_telephone',\n",
        "       'month_apr', 'month_aug', 'month_dec', 'month_jul', 'month_jun',\n",
        "       'month_mar', 'month_may', 'month_nov', 'month_oct', 'month_sep',\n",
        "       'day_of_week_fri', 'day_of_week_mon', 'day_of_week_thu',\n",
        "       'day_of_week_tue', 'day_of_week_wed', 'poutcome_failure',\n",
        "       'poutcome_nonexistent', 'poutcome_success']]\n",
        "y = campaign_copy.y\n",
        "\n",
        "# run model\n",
        "clf = clf.fit(X, y)\n",
        "\n",
        "# pull important features and then decide which ones to keep\n",
        "coef = pd.Series(clf.feature_importances_, index = X.columns)\n",
        "imp_coef = coef.sort_values()\n",
        "\n",
        "import matplotlib\n",
        "matplotlib.rcParams['figure.figsize'] = (12, 15)\n",
        "imp_coef.plot(kind = \"barh\")"
      ],
      "execution_count": null,
      "outputs": [
        {
          "output_type": "execute_result",
          "data": {
            "text/plain": [
              "<matplotlib.axes._subplots.AxesSubplot at 0x7f695cf7f5f8>"
            ]
          },
          "metadata": {
            "tags": []
          },
          "execution_count": 7
        },
        {
          "output_type": "display_data",
          "data": {
            "image/png": "[encoded data removed]",
            "text/plain": [
              "<Figure size 864x1080 with 1 Axes>"
            ]
          },
          "metadata": {
            "tags": [],
            "needs_background": "light"
          }
        }
      ]
    },
    {
      "cell_type": "code",
      "metadata": {
        "colab": {
          "base_uri": "https://localhost:8080/"
        },
        "id": "jmY6UWojDbXh",
        "outputId": "a4fb86e9-cace-450f-cd94-f16ca9f63555"
      },
      "source": [
        "# begin configuring altair settings for clean graph at the end\n",
        "def alt_avenir():\n",
        "    font = \"avenir\"\n",
        "    background_color = \"#EEEEF8\"\n",
        "    font_color = \"#444444\"\n",
        "\n",
        "    return {\n",
        "        \"config\": {\n",
        "            \"view\": {\n",
        "                'width': 325,\n",
        "                'height': 300\n",
        "            },\n",
        "            \"background\": background_color,\n",
        "            \"title\": {\n",
        "                'font': font,\n",
        "                'fontSize': 20,\n",
        "                'color': font_color\n",
        "            },\n",
        "            \"axis\": {\n",
        "                \"grid\": False,\n",
        "                'labelFontSize': 12,\n",
        "                'titleFontSize': 11,\n",
        "                \"labelFont\": font,\n",
        "                \"titleFont\": font,\n",
        "                'titleColor': font_color\n",
        "            },\n",
        "            \"header\": {\n",
        "                \"labelFont\": font,\n",
        "                \"titleFont\": font\n",
        "            },\n",
        "            \"legend\": {\n",
        "                \"labelFont\": font,\n",
        "                \"titleFont\": font,\n",
        "                \"fillColor\": background_color,\n",
        "                \"padding\": 10,\n",
        "                \"labelFontSize\": 17,\n",
        "                \"titleFontSize\": 17,\n",
        "                \"symbolStrokeWidth\": 12\n",
        "            }\n",
        "        }\n",
        "    }\n",
        "\n",
        "# Altair settings\n",
        "alt.themes.register('alt_avenir', alt_avenir)\n",
        "alt.themes.enable('alt_avenir')\n",
        "alt.data_transformers.disable_max_rows()"
      ],
      "execution_count": null,
      "outputs": [
        {
          "output_type": "execute_result",
          "data": {
            "text/plain": [
              "DataTransformerRegistry.enable('default')"
            ]
          },
          "metadata": {
            "tags": []
          },
          "execution_count": 8
        }
      ]
    },
    {
      "cell_type": "code",
      "metadata": {
        "colab": {
          "base_uri": "https://localhost:8080/"
        },
        "id": "-ALb26qhD2lZ",
        "outputId": "7a8dae97-c0bc-46f5-aad1-a4514f817511"
      },
      "source": [
        "# train and test 'clf' to view accuracy score:\n",
        "from sklearn.model_selection import train_test_split\n",
        "\n",
        "X_train, X_test, y_train, y_test = train_test_split(X, y, test_size=.3)\n",
        "\n",
        "clf_splitted = tree.DecisionTreeClassifier()\n",
        "clf_splitted.fit(X_train, y_train)\n",
        "test_predictions = clf_splitted.predict(X_test)\n",
        "accuracy_score(y_test, test_predictions)"
      ],
      "execution_count": null,
      "outputs": [
        {
          "output_type": "execute_result",
          "data": {
            "text/plain": [
              "0.8360443473334952"
            ]
          },
          "metadata": {
            "tags": []
          },
          "execution_count": 9
        }
      ]
    },
    {
      "cell_type": "code",
      "metadata": {
        "colab": {
          "base_uri": "https://localhost:8080/"
        },
        "id": "O6h1nuVGEQFZ",
        "outputId": "b0b18d79-3245-46d1-9a1e-ef65a76abb00"
      },
      "source": [
        "# let's explore the top 2 features see if accuracy score increases\n",
        "X_top2 = campaign_copy.loc[:, ['age', 'nr.employed']]\n",
        "y_top2 = campaign_copy.y\n",
        "X_train, X_test, y_train, y_test = train_test_split(X_top2, y_top2, test_size=.3)\n",
        "clf_splitted.fit(X_train, y_train)\n",
        "test_predictions = clf_splitted.predict(X_test)\n",
        "accuracy_score(y_test, test_predictions)"
      ],
      "execution_count": null,
      "outputs": [
        {
          "output_type": "execute_result",
          "data": {
            "text/plain": [
              "0.8891316662620377"
            ]
          },
          "metadata": {
            "tags": []
          },
          "execution_count": 10
        }
      ]
    },
    {
      "cell_type": "code",
      "metadata": {
        "colab": {
          "base_uri": "https://localhost:8080/"
        },
        "id": "9D7HIo3pEbfL",
        "outputId": "02c0f032-cb93-4688-89dd-c3df6a27aec2"
      },
      "source": [
        "# import required libraries\n",
        "import numpy as np\n",
        "from imblearn.over_sampling import RandomOverSampler\n",
        "\n",
        "# let's try oversampling method using a decision tree\n",
        "ro = RandomOverSampler()\n",
        "campaignEncoded = pd.get_dummies(campaign, columns=['job','marital','education','default', 'housing', 'loan','contact','month','day_of_week','poutcome'])\n",
        "y = campaignEncoded['y']\n",
        "#drop some features from model\n",
        "X = campaignEncoded.drop(['y', 'poutcome_nonexistent',\t'poutcome_success','previous','emp.var.rate','cons.price.idx','cons.conf.idx'], axis = 1)\n",
        "\n",
        "# resample data\n",
        "X_new, y_new = ro.fit_resample(X, y)\n",
        "# Convert this to a dataframe and check the counts, now they're equal, because\n",
        "# we have a bunch of duplicate survivors\n",
        "campaignEncoded = pd.DataFrame(y_new)\n",
        "# check if counts are equal\n",
        "campaignEncoded.value_counts()"
      ],
      "execution_count": null,
      "outputs": [
        {
          "output_type": "stream",
          "text": [
            "/usr/local/lib/python3.6/dist-packages/sklearn/externals/six.py:31: FutureWarning: The module is deprecated in version 0.21 and will be removed in version 0.23 since we've dropped support for Python 2.7. Please rely on the official version of six (https://pypi.org/project/six/).\n",
            "  \"(https://pypi.org/project/six/).\", FutureWarning)\n",
            "/usr/local/lib/python3.6/dist-packages/sklearn/utils/deprecation.py:144: FutureWarning: The sklearn.neighbors.base module is  deprecated in version 0.22 and will be removed in version 0.24. The corresponding classes / functions should instead be imported from sklearn.neighbors. Anything that cannot be imported from sklearn.neighbors is now part of the private API.\n",
            "  warnings.warn(message, FutureWarning)\n",
            "/usr/local/lib/python3.6/dist-packages/sklearn/utils/deprecation.py:87: FutureWarning: Function safe_indexing is deprecated; safe_indexing is deprecated in version 0.22 and will be removed in version 0.24.\n",
            "  warnings.warn(msg, category=FutureWarning)\n"
          ],
          "name": "stderr"
        },
        {
          "output_type": "execute_result",
          "data": {
            "text/plain": [
              "yes    36548\n",
              "no     36548\n",
              "dtype: int64"
            ]
          },
          "metadata": {
            "tags": []
          },
          "execution_count": 11
        }
      ]
    },
    {
      "cell_type": "code",
      "metadata": {
        "colab": {
          "base_uri": "https://localhost:8080/"
        },
        "id": "l5qkWmGDFRhW",
        "outputId": "97aee83c-d8ed-46a1-faae-f66e1c481f08"
      },
      "source": [
        "from sklearn import metrics\n",
        "# train split and test and view accuracy\n",
        "X_train, X_test, y_train, y_test = train_test_split(X_new, y_new, test_size=.2)\n",
        "tree_clf = tree.DecisionTreeClassifier()\n",
        "tree_clf.fit(X_train, y_train)\n",
        "y_pred = tree_clf.predict(X_test)\n",
        "print(\"Accuracy:\",metrics.accuracy_score(y_test, y_pred))"
      ],
      "execution_count": null,
      "outputs": [
        {
          "output_type": "stream",
          "text": [
            "Accuracy: 0.9416552667578659\n"
          ],
          "name": "stdout"
        }
      ]
    },
    {
      "cell_type": "code",
      "metadata": {
        "colab": {
          "base_uri": "https://localhost:8080/"
        },
        "id": "gsOccDn7FoaX",
        "outputId": "136d2dba-abdf-4171-b636-060b0d424d11"
      },
      "source": [
        "# let's try a Random Forest to see if accuracy goes up with oversampling method\n",
        "\n",
        "from sklearn.ensemble import RandomForestClassifier\n",
        "\n",
        "# Split data into train and test set\n",
        "X_train, X_test, y_train, y_test = train_test_split(X_new, y_new, test_size=0.3)\n",
        "    \n",
        "# Creating the Random Forest Model\n",
        "rf_clf = RandomForestClassifier(max_depth=30)\n",
        "rf_clf.fit(X_train, y_train)\n",
        "y_pred = rf_clf.predict(X_test)\n",
        "print(\"Accuracy:\", accuracy_score(y_test, y_pred))"
      ],
      "execution_count": null,
      "outputs": [
        {
          "output_type": "stream",
          "text": [
            "Accuracy: 0.9578640156869899\n"
          ],
          "name": "stdout"
        }
      ]
    },
    {
      "cell_type": "code",
      "metadata": {
        "colab": {
          "base_uri": "https://localhost:8080/",
          "height": 377
        },
        "id": "VSLKQlWwGQGD",
        "outputId": "6f4ce8a7-e919-4698-cfaa-3b58657ef3fc"
      },
      "source": [
        "column_names_aes = ['age', 'campaign', 'pdays', 'euribor3m', 'nr.employed', 'job_admin.',\n",
        "       'job_blue-collar', 'job_entrepreneur', 'job_housemaid',\n",
        "       'job_management', 'job_retired', 'job_self-employed', 'job_services',\n",
        "       'job_student', 'job_technician', 'job_unemployed', 'job_unknown',\n",
        "       'marital_divorced', 'marital_married', 'marital_single',\n",
        "       'marital_unknown', 'education_basic.4y', 'education_basic.6y',\n",
        "       'education_basic.9y', 'education_high.school', 'education_illiterate',\n",
        "       'education_professional.course', 'education_university.degree',\n",
        "       'education_unknown', 'default_no', 'default_unknown', 'default_yes',\n",
        "       'housing_no', 'housing_unknown', 'housing_yes', 'loan_no',\n",
        "       'loan_unknown', 'loan_yes', 'contact_cellular', 'contact_telephone',\n",
        "       'month_apr', 'month_aug', 'month_dec', 'month_jul', 'month_jun',\n",
        "       'month_mar', 'month_may', 'month_nov', 'month_oct', 'month_sep',\n",
        "       'day_of_week_fri', 'day_of_week_mon', 'day_of_week_thu',\n",
        "       'day_of_week_tue', 'day_of_week_wed', 'poutcome_failure']\n",
        "\n",
        "# Exploring model feature importances\n",
        "rf_clf_feat_import = (pd.DataFrame({\n",
        "    \"Feature Importances\": np.round(rf_clf.feature_importances_, 2),\n",
        "    \"Feature Names\": column_names_aes,\n",
        "}).sort_values(\"Feature Importances\", ascending=False).head(20))\n",
        "\n",
        "base_fi = (alt.Chart(rf_clf_feat_import).encode(\n",
        "    x=alt.X(\"Feature Importances:Q\", title=\"\"),\n",
        "    y=alt.Y(\"Feature Names:N\", title=\"\", sort=\"-x\"),\n",
        "    tooltip=[alt.Tooltip(\"Feature Importances:Q\", title='Feature Importance')]\n",
        ").properties(title={\"text\": \"Feature Importances\"}))\n",
        "\n",
        "chart = (base_fi.mark_bar(color=\"#A9A9A9\", size=4) +\n",
        "         base_fi.mark_circle(color=\"#FF6700\", size=120, opacity=1)).configure_axis(\n",
        "    labelFontSize=15,\n",
        "    titleFontSize=14,\n",
        ").interactive()\n",
        "\n",
        "chart"
      ],
      "execution_count": null,
      "outputs": [
        {
          "output_type": "execute_result",
          "data": {
            "text/plain": [
              "alt.LayerChart(...)"
            ],
            "text/html": [
              "\n",
              "<div id=\"altair-viz-fe348281835f4143a42ba7426a8f72ea\"></div>\n",
              "<script type=\"text/javascript\">\n",
              "  (function(spec, embedOpt){\n",
              "    let outputDiv = document.currentScript.previousElementSibling;\n",
              "    if (outputDiv.id !== \"altair-viz-fe348281835f4143a42ba7426a8f72ea\") {\n",
              "      outputDiv = document.getElementById(\"altair-viz-fe348281835f4143a42ba7426a8f72ea\");\n",
              "    }\n",
              "    const paths = {\n",
              "      \"vega\": \"https://cdn.jsdelivr.net/npm//vega@5?noext\",\n",
              "      \"vega-lib\": \"https://cdn.jsdelivr.net/npm//vega-lib?noext\",\n",
              "      \"vega-lite\": \"https://cdn.jsdelivr.net/npm//vega-lite@4.8.1?noext\",\n",
              "      \"vega-embed\": \"https://cdn.jsdelivr.net/npm//vega-embed@6?noext\",\n",
              "    };\n",
              "\n",
              "    function loadScript(lib) {\n",
              "      return new Promise(function(resolve, reject) {\n",
              "        var s = document.createElement('script');\n",
              "        s.src = paths[lib];\n",
              "        s.async = true;\n",
              "        s.onload = () => resolve(paths[lib]);\n",
              "        s.onerror = () => reject(`Error loading script: ${paths[lib]}`);\n",
              "        document.getElementsByTagName(\"head\")[0].appendChild(s);\n",
              "      });\n",
              "    }\n",
              "\n",
              "    function showError(err) {\n",
              "      outputDiv.innerHTML = `<div class=\"error\" style=\"color:red;\">${err}</div>`;\n",
              "      throw err;\n",
              "    }\n",
              "\n",
              "    function displayChart(vegaEmbed) {\n",
              "      vegaEmbed(outputDiv, spec, embedOpt)\n",
              "        .catch(err => showError(`Javascript Error: ${err.message}<br>This usually means there's a typo in your chart specification. See the javascript console for the full traceback.`));\n",
              "    }\n",
              "\n",
              "    if(typeof define === \"function\" && define.amd) {\n",
              "      requirejs.config({paths});\n",
              "      require([\"vega-embed\"], displayChart, err => showError(`Error loading script: ${err.message}`));\n",
              "    } else if (typeof vegaEmbed === \"function\") {\n",
              "      displayChart(vegaEmbed);\n",
              "    } else {\n",
              "      loadScript(\"vega\")\n",
              "        .then(() => loadScript(\"vega-lite\"))\n",
              "        .then(() => loadScript(\"vega-embed\"))\n",
              "        .catch(showError)\n",
              "        .then(() => displayChart(vegaEmbed));\n",
              "    }\n",
              "  })({\"config\": {\"view\": {\"width\": 325, \"height\": 300}, \"background\": \"#EEEEF8\", \"title\": {\"font\": \"avenir\", \"fontSize\": 20, \"color\": \"#444444\"}, \"axis\": {\"grid\": false, \"labelFontSize\": 15, \"titleFontSize\": 14, \"labelFont\": \"avenir\", \"titleFont\": \"avenir\", \"titleColor\": \"#444444\"}, \"header\": {\"labelFont\": \"avenir\", \"titleFont\": \"avenir\"}, \"legend\": {\"labelFont\": \"avenir\", \"titleFont\": \"avenir\", \"fillColor\": \"#EEEEF8\", \"padding\": 10, \"labelFontSize\": 17, \"titleFontSize\": 17, \"symbolStrokeWidth\": 12}}, \"layer\": [{\"mark\": {\"type\": \"bar\", \"color\": \"#A9A9A9\", \"size\": 4}, \"encoding\": {\"tooltip\": [{\"type\": \"quantitative\", \"field\": \"Feature Importances\", \"title\": \"Feature Importance\"}], \"x\": {\"type\": \"quantitative\", \"field\": \"Feature Importances\", \"title\": \"\"}, \"y\": {\"type\": \"nominal\", \"field\": \"Feature Names\", \"sort\": \"-x\", \"title\": \"\"}}, \"selection\": {\"selector001\": {\"type\": \"interval\", \"bind\": \"scales\", \"encodings\": [\"x\", \"y\"]}}, \"title\": {\"text\": \"Feature Importances\"}}, {\"mark\": {\"type\": \"circle\", \"color\": \"#FF6700\", \"opacity\": 1, \"size\": 120}, \"encoding\": {\"tooltip\": [{\"type\": \"quantitative\", \"field\": \"Feature Importances\", \"title\": \"Feature Importance\"}], \"x\": {\"type\": \"quantitative\", \"field\": \"Feature Importances\", \"title\": \"\"}, \"y\": {\"type\": \"nominal\", \"field\": \"Feature Names\", \"sort\": \"-x\", \"title\": \"\"}}, \"title\": {\"text\": \"Feature Importances\"}}], \"data\": {\"name\": \"data-fd97e30c0b685384cd91ba4e48eb9ad3\"}, \"$schema\": \"https://vega.github.io/schema/vega-lite/v4.8.1.json\", \"datasets\": {\"data-fd97e30c0b685384cd91ba4e48eb9ad3\": [{\"Feature Importances\": 0.17, \"Feature Names\": \"euribor3m\"}, {\"Feature Importances\": 0.15, \"Feature Names\": \"age\"}, {\"Feature Importances\": 0.09, \"Feature Names\": \"nr.employed\"}, {\"Feature Importances\": 0.08, \"Feature Names\": \"campaign\"}, {\"Feature Importances\": 0.03, \"Feature Names\": \"pdays\"}, {\"Feature Importances\": 0.02, \"Feature Names\": \"job_admin.\"}, {\"Feature Importances\": 0.02, \"Feature Names\": \"housing_no\"}, {\"Feature Importances\": 0.02, \"Feature Names\": \"education_high.school\"}, {\"Feature Importances\": 0.02, \"Feature Names\": \"housing_yes\"}, {\"Feature Importances\": 0.02, \"Feature Names\": \"contact_cellular\"}, {\"Feature Importances\": 0.02, \"Feature Names\": \"marital_married\"}, {\"Feature Importances\": 0.01, \"Feature Names\": \"month_apr\"}, {\"Feature Importances\": 0.01, \"Feature Names\": \"default_unknown\"}, {\"Feature Importances\": 0.01, \"Feature Names\": \"loan_no\"}, {\"Feature Importances\": 0.01, \"Feature Names\": \"loan_yes\"}, {\"Feature Importances\": 0.01, \"Feature Names\": \"contact_telephone\"}, {\"Feature Importances\": 0.01, \"Feature Names\": \"month_jun\"}, {\"Feature Importances\": 0.01, \"Feature Names\": \"month_aug\"}, {\"Feature Importances\": 0.01, \"Feature Names\": \"month_jul\"}, {\"Feature Importances\": 0.01, \"Feature Names\": \"month_mar\"}]}}, {\"mode\": \"vega-lite\"});\n",
              "</script>"
            ]
          },
          "metadata": {
            "tags": []
          },
          "execution_count": 15
        }
      ]
    },
    {
      "cell_type": "code",
      "metadata": {
        "colab": {
          "base_uri": "https://localhost:8080/"
        },
        "id": "DYeTPDaSHRrW",
        "outputId": "4d87bc95-e9a9-4ba2-b120-8d8c10590bd6"
      },
      "source": [
        "# try xgboost model see if there's a change in accuracy score\n",
        "from xgboost import XGBClassifier\n",
        "\n",
        "campaignEncoded = pd.get_dummies(campaign, columns=['job','marital','education','default', 'housing', 'loan','contact','month','day_of_week','poutcome'])\n",
        "y = campaignEncoded['y']\n",
        "#drop some features from model\n",
        "X = campaignEncoded.drop(['y', 'poutcome_nonexistent',\t'poutcome_success','previous','emp.var.rate','cons.price.idx','cons.conf.idx'], axis = 1)\n",
        "\n",
        "X_train, X_test, y_train, y_test = train_test_split(X, y, test_size=.3)\n",
        "\n",
        "model_3 = XGBClassifier()\n",
        "model_3.fit(X_train, y_train)\n",
        "test_predictions = model_3.predict(X_test)\n",
        "accuracy_score(y_test, test_predictions)"
      ],
      "execution_count": null,
      "outputs": [
        {
          "output_type": "execute_result",
          "data": {
            "text/plain": [
              "0.9021607186210245"
            ]
          },
          "metadata": {
            "tags": []
          },
          "execution_count": 17
        }
      ]
    }
  ]
}
